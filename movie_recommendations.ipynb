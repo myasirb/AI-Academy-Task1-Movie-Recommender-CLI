{
  "cells": [
    {
      "cell_type": "markdown",
      "source": [
        "## Understanding tf-idf"
      ],
      "metadata": {
        "id": "Gn0z-2u9ntBF"
      },
      "id": "Gn0z-2u9ntBF"
    },
    {
      "cell_type": "code",
      "source": [
        "from sklearn.feature_extraction.text import CountVectorizer, TfidfVectorizer\n",
        "import pandas as pd\n",
        "\n",
        "# Step 1: Sample Corpus\n",
        "corpus = [\n",
        "    \"Harry Potter and the Sorcerer's Stone\",\n",
        "    \"The Dark Knight\",\n",
        "    \"Harry Potter and the Goblet of Fire\",\n",
        "    \"Harry Potter\"\n",
        "]\n",
        "\n",
        "# Step 2: Raw Term Frequency (TF)\n",
        "count_vec = CountVectorizer()\n",
        "count_matrix = count_vec.fit_transform(corpus)\n",
        "tf_df = pd.DataFrame(count_matrix.toarray(), columns=count_vec.get_feature_names_out())\n",
        "print(\"\\n🔢 Term Frequency (TF) Matrix:\")\n",
        "print(tf_df)\n",
        "\n",
        "# Step 3: TF-IDF Matrix\n",
        "tfidf_vec = TfidfVectorizer(norm=None)  # ✅ Now it's defined before using\n",
        "tfidf_matrix = tfidf_vec.fit_transform(corpus)\n",
        "tfidf_df = pd.DataFrame(tfidf_matrix.toarray(), columns=tfidf_vec.get_feature_names_out())\n",
        "print(\"\\n📊 TF-IDF Matrix:\")\n",
        "print(tfidf_df.round(3))\n",
        "\n",
        "# Step 4: IDF Values\n",
        "idf_scores = dict(zip(tfidf_vec.get_feature_names_out(), tfidf_vec.idf_))\n",
        "idf_df = pd.Series(idf_scores).sort_values()\n",
        "print(\"\\n📈 IDF Values:\")\n",
        "print(idf_df)\n",
        "\n",
        "# Step 5: Vocabulary (term to column index)\n",
        "print(\"\\n📚 Vocabulary (term → column index):\")\n",
        "print(tfidf_vec.vocabulary_)\n"
      ],
      "metadata": {
        "id": "mhdl1C5nfvfg"
      },
      "execution_count": null,
      "outputs": [],
      "id": "mhdl1C5nfvfg"
    },
    {
      "cell_type": "code",
      "source": [
        "query_vec = tfidf_vec.transform([\"Harry Potter\"])\n",
        "pd.DataFrame(query_vec.toarray(), columns=tfidf_vec.get_feature_names_out()).round(3)"
      ],
      "metadata": {
        "id": "ZoIbl_yTjKkS"
      },
      "execution_count": null,
      "outputs": [],
      "id": "ZoIbl_yTjKkS"
    },
    {
      "cell_type": "markdown",
      "source": [
        "# Movie Recommender"
      ],
      "metadata": {
        "id": "A6ai2GFCMLlW"
      },
      "id": "A6ai2GFCMLlW"
    },
    {
      "cell_type": "markdown",
      "source": [
        "## TF-ID & Cosine Similarity Search Engine"
      ],
      "metadata": {
        "id": "EdouZbDBrBhV"
      },
      "id": "EdouZbDBrBhV"
    },
    {
      "cell_type": "code",
      "source": [
        "# @title\n",
        "pip install pandas requests ipywidgets --quiet"
      ],
      "metadata": {
        "id": "Zz1TF5Zk4sBZ",
        "cellView": "form"
      },
      "id": "Zz1TF5Zk4sBZ",
      "execution_count": null,
      "outputs": []
    },
    {
      "cell_type": "code",
      "execution_count": null,
      "id": "9080e734-0c11-45e7-b4ac-64d2109375af",
      "metadata": {
        "id": "9080e734-0c11-45e7-b4ac-64d2109375af",
        "cellView": "form"
      },
      "outputs": [],
      "source": [
        "# @title\n",
        "import os\n",
        "import requests, zipfile, io\n",
        "import pandas as pd\n",
        "\n",
        "import re\n",
        "\n",
        "# Constants\n",
        "zip_url = \"https://files.grouplens.org/datasets/movielens/ml-25m.zip\"\n",
        "zip_path = \"ml-25m.zip\"\n",
        "extract_dir = \"movielens_data\"\n",
        "\n",
        "# Step 1: Download only if zip file is missing\n",
        "if not os.path.exists(zip_path):\n",
        "    print(\"Downloading dataset...\")\n",
        "    response = requests.get(zip_url)\n",
        "    with open(zip_path, \"wb\") as f:\n",
        "        f.write(response.content)\n",
        "    print(\"Download complete.\")\n",
        "    print(\"Extracting dataset...\")\n",
        "    with zipfile.ZipFile(zip_path, 'r') as zip_ref:\n",
        "        zip_ref.extractall(extract_dir)\n",
        "    print(\"Extraction complete.\")\n",
        "\n",
        "def read_csv_pandas(fileName):\n",
        "  return pd.read_csv(os.path.join(extract_dir, \"ml-25m\", f\"{fileName}.csv\"))\n",
        "\n",
        "def clean_title(title):\n",
        "    title = re.sub(\"[^a-zA-Z0-9 ]\", \"\", title)\n",
        "    return title"
      ]
    },
    {
      "cell_type": "code",
      "source": [
        "# Step 3: Load the CSV\n",
        "movies = read_csv_pandas(\"movies\")\n",
        "movies[\"clean_title\"] = movies[\"title\"].apply(clean_title)\n",
        "\n",
        "ratings = read_csv_pandas(\"ratings\")"
      ],
      "metadata": {
        "id": "Lw-z-ZUn_t4N"
      },
      "id": "Lw-z-ZUn_t4N",
      "execution_count": null,
      "outputs": []
    },
    {
      "cell_type": "code",
      "source": [
        "movies.head()"
      ],
      "metadata": {
        "id": "RiGCYWC4MqCn"
      },
      "id": "RiGCYWC4MqCn",
      "execution_count": null,
      "outputs": []
    },
    {
      "cell_type": "code",
      "source": [
        "ratings.head()"
      ],
      "metadata": {
        "id": "k-VXeM_5fGdw"
      },
      "id": "k-VXeM_5fGdw",
      "execution_count": null,
      "outputs": []
    },
    {
      "cell_type": "code",
      "execution_count": null,
      "id": "db397894-298f-4a7b-9b8e-790e23138a51",
      "metadata": {
        "id": "db397894-298f-4a7b-9b8e-790e23138a51"
      },
      "outputs": [],
      "source": [
        "from sklearn.feature_extraction.text import TfidfVectorizer\n",
        "\n",
        "vectorizer = TfidfVectorizer(ngram_range=(1, 2))\n",
        "\n",
        "tfidf = vectorizer.fit_transform(movies[\"clean_title\"])\n",
        "print(vectorizer.vocabulary_)"
      ]
    },
    {
      "cell_type": "code",
      "execution_count": null,
      "id": "d4b39a12-8bc2-4708-a4d1-8d0d1acbcc00",
      "metadata": {
        "id": "d4b39a12-8bc2-4708-a4d1-8d0d1acbcc00"
      },
      "outputs": [],
      "source": [
        "from sklearn.metrics.pairwise import cosine_similarity\n",
        "import numpy as np\n",
        "\n",
        "def search(title):\n",
        "    title = clean_title(title)\n",
        "    query_vec = vectorizer.transform([title])\n",
        "    similarity = cosine_similarity(query_vec, tfidf).flatten()\n",
        "    indices = np.argpartition(similarity, -5)[-5:]\n",
        "    results = movies.iloc[indices].iloc[::-1]\n",
        "\n",
        "    return results"
      ]
    },
    {
      "cell_type": "markdown",
      "source": [
        "## Recomendation"
      ],
      "metadata": {
        "id": "OYjLGF_dV1SC"
      },
      "id": "OYjLGF_dV1SC"
    },
    {
      "cell_type": "code",
      "source": [
        "def find_similar_movies(movie_id, rating_threshold, pick_x_percentage, number_of_recommendations):\n",
        "    # Filter ratings once for those above the threshold\n",
        "    filtered_ratings = ratings[ratings[\"rating\"] > rating_threshold]\n",
        "\n",
        "    # Step 1: Find users who rated the target movie above the threshold\n",
        "    similar_users = filtered_ratings[filtered_ratings[\"movieId\"] == movie_id][\"userId\"]\n",
        "\n",
        "    # Step 2: Find other movies rated by these users (also above threshold)\n",
        "    similar_user_recs = filtered_ratings[filtered_ratings[\"userId\"].isin(similar_users)][\"movieId\"]\n",
        "\n",
        "    # Step 3: Calculate % of similar users who liked each movie\n",
        "    unique_movies = similar_user_recs.value_counts() / len(similar_users)\n",
        "    unique_movies = unique_movies[unique_movies > pick_x_percentage]\n",
        "\n",
        "    # Step 4: Among all users, calculate how generally popular these movies are\n",
        "    all_users = filtered_ratings[filtered_ratings[\"movieId\"].isin(unique_movies.index)]\n",
        "    all_users_recs = all_users[\"movieId\"].value_counts() / len(all_users[\"userId\"].unique())\n",
        "\n",
        "    # Step 5: Compare specific-vs-general popularity to calculate a score\n",
        "    rec_percentages = pd.concat([unique_movies, all_users_recs], axis=1)\n",
        "    rec_percentages.columns = [\"similar\", \"all\"]\n",
        "    rec_percentages[\"score\"] = rec_percentages[\"similar\"] / rec_percentages[\"all\"]\n",
        "    rec_percentages = rec_percentages.sort_values(\"score\", ascending=False)\n",
        "\n",
        "    # Step 6: Return top N recommendations\n",
        "    recommended_movies = rec_percentages.head(number_of_recommendations).merge(\n",
        "        movies, left_index=True, right_on=\"movieId\"\n",
        "    )\n",
        "\n",
        "    return recommended_movies[[\"score\", \"title\", \"genres\"]]\n"
      ],
      "metadata": {
        "id": "Vn6a2wEhWT1j"
      },
      "id": "Vn6a2wEhWT1j",
      "execution_count": null,
      "outputs": []
    },
    {
      "cell_type": "code",
      "source": [
        "from IPython.display import display, clear_output\n",
        "import ipywidgets as widgets\n",
        "\n",
        "# Text input\n",
        "movie_name_input = widgets.Text(\n",
        "    placeholder='Toy Story',\n",
        "    description='Movie Title:',\n",
        "    disabled=False\n",
        ")\n",
        "\n",
        "# Output areas\n",
        "recommendation_list = widgets.Output()\n",
        "movie_list = widgets.Output()\n",
        "\n",
        "# Headers\n",
        "movie_list_header = widgets.HTML(\"<h3>🔍 Matching Movies</h3>\")\n",
        "recommendation_header = widgets.HTML(\"<h3>🎬 Recommended Movies</h3>\")\n",
        "\n",
        "# Loader widget\n",
        "loader = widgets.HTML(\"<span style='color:gray'>⏳ Loading recommendations...</span>\")\n",
        "\n",
        "# Recommendation configuration parameters\n",
        "number_of_recommendations = 10\n",
        "rating_threshold = 4\n",
        "pick_x_percentage = 0.1\n",
        "\n",
        "def on_type(data):\n",
        "    title = data.value.strip()\n",
        "    if len(title) > 5:\n",
        "        # Show loader immediately\n",
        "        with recommendation_list:\n",
        "            recommendation_list.clear_output()\n",
        "            display(loader)\n",
        "\n",
        "        try:\n",
        "            results = search(title)\n",
        "\n",
        "            with movie_list:\n",
        "                movie_list.clear_output()\n",
        "                display(movie_list_header)\n",
        "                display(results)\n",
        "\n",
        "            if results.empty:\n",
        "                with recommendation_list:\n",
        "                    recommendation_list.clear_output()\n",
        "                    print(\"No movies found with that title.\")\n",
        "                return\n",
        "\n",
        "            movie_id = results.iloc[0][\"movieId\"]\n",
        "            recommendations = find_similar_movies(\n",
        "                movie_id,\n",
        "                rating_threshold,\n",
        "                pick_x_percentage,\n",
        "                number_of_recommendations\n",
        "            )\n",
        "\n",
        "            with recommendation_list:\n",
        "                recommendation_list.clear_output()\n",
        "                display(recommendation_header)\n",
        "                display(recommendations)\n",
        "\n",
        "        except Exception as e:\n",
        "            with recommendation_list:\n",
        "                recommendation_list.clear_output()\n",
        "                print(f\"An error occurred: {e}\")\n",
        "\n",
        "# Link input to callback\n",
        "movie_name_input.on_submit(on_type)\n",
        "\n",
        "# Display UI\n",
        "display(movie_name_input, movie_list, recommendation_list)\n"
      ],
      "metadata": {
        "id": "FAeJ0wq-WXn5"
      },
      "id": "FAeJ0wq-WXn5",
      "execution_count": null,
      "outputs": []
    }
  ],
  "metadata": {
    "kernelspec": {
      "display_name": "Python 3 (ipykernel)",
      "language": "python",
      "name": "python3"
    },
    "language_info": {
      "codemirror_mode": {
        "name": "ipython",
        "version": 3
      },
      "file_extension": ".py",
      "mimetype": "text/x-python",
      "name": "python",
      "nbconvert_exporter": "python",
      "pygments_lexer": "ipython3",
      "version": "3.9.13"
    },
    "colab": {
      "provenance": [],
      "collapsed_sections": [
        "Gn0z-2u9ntBF",
        "8U8oafDMrG4o"
      ]
    }
  },
  "nbformat": 4,
  "nbformat_minor": 5
}