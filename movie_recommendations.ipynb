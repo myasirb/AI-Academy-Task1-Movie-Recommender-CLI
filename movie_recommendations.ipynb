{
  "cells": [
    {
      "cell_type": "markdown",
      "source": [
        "## Understanding tf-idf"
      ],
      "metadata": {
        "id": "Gn0z-2u9ntBF"
      },
      "id": "Gn0z-2u9ntBF"
    },
    {
      "cell_type": "code",
      "source": [
        "from sklearn.feature_extraction.text import CountVectorizer, TfidfVectorizer\n",
        "import pandas as pd\n",
        "\n",
        "# Step 1: Sample Corpus\n",
        "corpus = [\n",
        "    \"Harry Potter and the Sorcerer's Stone\",\n",
        "    \"The Dark Knight\",\n",
        "    \"Harry Potter and the Goblet of Fire\",\n",
        "    \"Harry Potter\"\n",
        "]\n",
        "\n",
        "# Step 2: Raw Term Frequency (TF)\n",
        "count_vec = CountVectorizer()\n",
        "count_matrix = count_vec.fit_transform(corpus)\n",
        "tf_df = pd.DataFrame(count_matrix.toarray(), columns=count_vec.get_feature_names_out())\n",
        "print(\"\\n🔢 Term Frequency (TF) Matrix:\")\n",
        "print(tf_df)\n",
        "\n",
        "# Step 3: TF-IDF Matrix\n",
        "tfidf_vec = TfidfVectorizer(norm=None)  # ✅ Now it's defined before using\n",
        "tfidf_matrix = tfidf_vec.fit_transform(corpus)\n",
        "tfidf_df = pd.DataFrame(tfidf_matrix.toarray(), columns=tfidf_vec.get_feature_names_out())\n",
        "print(\"\\n📊 TF-IDF Matrix:\")\n",
        "print(tfidf_df.round(3))\n",
        "\n",
        "# Step 4: IDF Values\n",
        "idf_scores = dict(zip(tfidf_vec.get_feature_names_out(), tfidf_vec.idf_))\n",
        "idf_df = pd.Series(idf_scores).sort_values()\n",
        "print(\"\\n📈 IDF Values:\")\n",
        "print(idf_df)\n",
        "\n",
        "# Step 5: Vocabulary (term to column index)\n",
        "print(\"\\n📚 Vocabulary (term → column index):\")\n",
        "print(tfidf_vec.vocabulary_)\n"
      ],
      "metadata": {
        "id": "mhdl1C5nfvfg"
      },
      "execution_count": null,
      "outputs": [],
      "id": "mhdl1C5nfvfg"
    },
    {
      "cell_type": "code",
      "source": [
        "query_vec = tfidf_vec.transform([\"Harry Potter\"])\n",
        "pd.DataFrame(query_vec.toarray(), columns=tfidf_vec.get_feature_names_out()).round(3)"
      ],
      "metadata": {
        "id": "ZoIbl_yTjKkS"
      },
      "execution_count": null,
      "outputs": [],
      "id": "ZoIbl_yTjKkS"
    },
    {
      "cell_type": "markdown",
      "source": [
        "# Movie Recommender"
      ],
      "metadata": {
        "id": "A6ai2GFCMLlW"
      },
      "id": "A6ai2GFCMLlW"
    },
    {
      "cell_type": "markdown",
      "source": [
        "## TF-ID & Cosine Similarity Search Engine"
      ],
      "metadata": {
        "id": "EdouZbDBrBhV"
      },
      "id": "EdouZbDBrBhV"
    },
    {
      "cell_type": "code",
      "source": [
        "# @title\n",
        "pip install pandas requests ipywidgets --quiet"
      ],
      "metadata": {
        "id": "Zz1TF5Zk4sBZ",
        "cellView": "form"
      },
      "id": "Zz1TF5Zk4sBZ",
      "execution_count": null,
      "outputs": []
    },
    {
      "cell_type": "code",
      "execution_count": null,
      "id": "9080e734-0c11-45e7-b4ac-64d2109375af",
      "metadata": {
        "id": "9080e734-0c11-45e7-b4ac-64d2109375af",
        "cellView": "form"
      },
      "outputs": [],
      "source": [
        "# @title\n",
        "import os\n",
        "import requests, zipfile, io\n",
        "import pandas as pd\n",
        "\n",
        "import re\n",
        "\n",
        "# Constants\n",
        "zip_url = \"https://files.grouplens.org/datasets/movielens/ml-25m.zip\"\n",
        "zip_path = \"ml-25m.zip\"\n",
        "extract_dir = \"movielens_data\"\n",
        "\n",
        "# Step 1: Download only if zip file is missing\n",
        "if not os.path.exists(zip_path):\n",
        "    print(\"Downloading dataset...\")\n",
        "    response = requests.get(zip_url)\n",
        "    with open(zip_path, \"wb\") as f:\n",
        "        f.write(response.content)\n",
        "    print(\"Download complete.\")\n",
        "    print(\"Extracting dataset...\")\n",
        "    with zipfile.ZipFile(zip_path, 'r') as zip_ref:\n",
        "        zip_ref.extractall(extract_dir)\n",
        "    print(\"Extraction complete.\")\n",
        "\n",
        "def read_csv_pandas(fileName):\n",
        "  return pd.read_csv(os.path.join(extract_dir, \"ml-25m\", f\"{fileName}.csv\"))\n",
        "\n",
        "def clean_title(title):\n",
        "    title = re.sub(\"[^a-zA-Z0-9 ]\", \"\", title)\n",
        "    return title"
      ]
    },
    {
      "cell_type": "code",
      "source": [
        "# Step 3: Load the CSV\n",
        "movies = read_csv_pandas(\"movies\")\n",
        "movies[\"clean_title\"] = movies[\"title\"].apply(clean_title)\n",
        "\n",
        "ratings = read_csv_pandas(\"ratings\")"
      ],
      "metadata": {
        "id": "Lw-z-ZUn_t4N"
      },
      "id": "Lw-z-ZUn_t4N",
      "execution_count": null,
      "outputs": []
    },
    {
      "cell_type": "code",
      "source": [
        "movies.head()"
      ],
      "metadata": {
        "id": "RiGCYWC4MqCn"
      },
      "id": "RiGCYWC4MqCn",
      "execution_count": null,
      "outputs": []
    },
    {
      "cell_type": "code",
      "source": [
        "ratings.head()"
      ],
      "metadata": {
        "id": "k-VXeM_5fGdw"
      },
      "id": "k-VXeM_5fGdw",
      "execution_count": null,
      "outputs": []
    },
    {
      "cell_type": "code",
      "execution_count": null,
      "id": "db397894-298f-4a7b-9b8e-790e23138a51",
      "metadata": {
        "id": "db397894-298f-4a7b-9b8e-790e23138a51"
      },
      "outputs": [],
      "source": [
        "from sklearn.feature_extraction.text import TfidfVectorizer\n",
        "\n",
        "vectorizer = TfidfVectorizer(ngram_range=(1, 2))\n",
        "\n",
        "tfidf = vectorizer.fit_transform(movies[\"clean_title\"])\n",
        "print(vectorizer.vocabulary_)"
      ]
    },
    {
      "cell_type": "code",
      "execution_count": null,
      "id": "d4b39a12-8bc2-4708-a4d1-8d0d1acbcc00",
      "metadata": {
        "id": "d4b39a12-8bc2-4708-a4d1-8d0d1acbcc00"
      },
      "outputs": [],
      "source": [
        "from sklearn.metrics.pairwise import cosine_similarity\n",
        "import numpy as np\n",
        "\n",
        "def search(title):\n",
        "    title = clean_title(title)\n",
        "    query_vec = vectorizer.transform([title])\n",
        "    similarity = cosine_similarity(query_vec, tfidf).flatten()\n",
        "    indices = np.argpartition(similarity, -5)[-5:]\n",
        "    results = movies.iloc[indices].iloc[::-1]\n",
        "\n",
        "    return results"
      ]
    },
    {
      "cell_type": "markdown",
      "source": [
        "## Recomendation"
      ],
      "metadata": {
        "id": "OYjLGF_dV1SC"
      },
      "id": "OYjLGF_dV1SC"
    },
    {
      "cell_type": "code",
      "source": [
        "def find_similar_movies(movie_id, rating_threshold, pick_x_percentage, number_of_recommendations):\n",
        "    # Filter ratings once for those above the threshold\n",
        "    filtered_ratings = ratings[ratings[\"rating\"] > rating_threshold]\n",
        "\n",
        "    # Step 1: Find users who rated the target movie above the threshold\n",
        "    similar_users = filtered_ratings[filtered_ratings[\"movieId\"] == movie_id][\"userId\"]\n",
        "\n",
        "    # Step 2: Find other movies rated by these users (also above threshold)\n",
        "    similar_user_recs = filtered_ratings[filtered_ratings[\"userId\"].isin(similar_users)][\"movieId\"]\n",
        "\n",
        "    # Step 3: Calculate % of similar users who liked each movie\n",
        "    unique_movies = similar_user_recs.value_counts() / len(similar_users)\n",
        "    unique_movies = unique_movies[unique_movies > pick_x_percentage]\n",
        "\n",
        "    # Step 4: Among all users, calculate how generally popular these movies are\n",
        "    all_users = filtered_ratings[filtered_ratings[\"movieId\"].isin(unique_movies.index)]\n",
        "    all_users_recs = all_users[\"movieId\"].value_counts() / len(all_users[\"userId\"].unique())\n",
        "\n",
        "    # Step 5: Compare specific-vs-general popularity to calculate a score\n",
        "    rec_percentages = pd.concat([unique_movies, all_users_recs], axis=1)\n",
        "    rec_percentages.columns = [\"similar\", \"all\"]\n",
        "    rec_percentages[\"score\"] = rec_percentages[\"similar\"] / rec_percentages[\"all\"]\n",
        "    rec_percentages = rec_percentages.sort_values(\"score\", ascending=False)\n",
        "\n",
        "    # Step 6: Return top N recommendations\n",
        "    recommended_movies = rec_percentages.head(number_of_recommendations).merge(\n",
        "        movies, left_index=True, right_on=\"movieId\"\n",
        "    )\n",
        "\n",
        "    return recommended_movies[[\"score\", \"title\", \"genres\"]]\n"
      ],
      "metadata": {
        "id": "Vn6a2wEhWT1j"
      },
      "id": "Vn6a2wEhWT1j",
      "execution_count": null,
      "outputs": []
    },
    {
      "cell_type": "code",
      "source": [
        "from IPython.display import display, clear_output\n",
        "import ipywidgets as widgets\n",
        "\n",
        "# Text input\n",
        "movie_name_input = widgets.Text(\n",
        "    placeholder='Toy Story',\n",
        "    description='Movie Title:',\n",
        "    disabled=False\n",
        ")\n",
        "\n",
        "# Output areas\n",
        "recommendation_list = widgets.Output()\n",
        "movie_list = widgets.Output()\n",
        "\n",
        "# Headers\n",
        "movie_list_header = widgets.HTML(\"<h3>🔍 Matching Movies</h3>\")\n",
        "recommendation_header = widgets.HTML(\"<h3>🎬 Recommended Movies</h3>\")\n",
        "\n",
        "# Loader widget\n",
        "loader = widgets.HTML(\"<span style='color:gray'>⏳ Loading recommendations...</span>\")\n",
        "\n",
        "# Recommendation configuration parameters\n",
        "number_of_recommendations = 10\n",
        "rating_threshold = 4\n",
        "pick_x_percentage = 0.1\n",
        "\n",
        "def on_type(data):\n",
        "    title = data.value.strip()\n",
        "    if len(title) > 5:\n",
        "        # Show loader immediately\n",
        "        with recommendation_list:\n",
        "            recommendation_list.clear_output()\n",
        "            display(loader)\n",
        "\n",
        "        try:\n",
        "            results = search(title)\n",
        "\n",
        "            with movie_list:\n",
        "                movie_list.clear_output()\n",
        "                display(movie_list_header)\n",
        "                display(results)\n",
        "\n",
        "            if results.empty:\n",
        "                with recommendation_list:\n",
        "                    recommendation_list.clear_output()\n",
        "                    print(\"No movies found with that title.\")\n",
        "                return\n",
        "\n",
        "            movie_id = results.iloc[0][\"movieId\"]\n",
        "            recommendations = find_similar_movies(\n",
        "                movie_id,\n",
        "                rating_threshold,\n",
        "                pick_x_percentage,\n",
        "                number_of_recommendations\n",
        "            )\n",
        "\n",
        "            with recommendation_list:\n",
        "                recommendation_list.clear_output()\n",
        "                display(recommendation_header)\n",
        "                display(recommendations)\n",
        "\n",
        "        except Exception as e:\n",
        "            with recommendation_list:\n",
        "                recommendation_list.clear_output()\n",
        "                print(f\"An error occurred: {e}\")\n",
        "\n",
        "# Link input to callback\n",
        "movie_name_input.on_submit(on_type)\n",
        "\n",
        "# Display UI\n",
        "display(movie_name_input, movie_list, recommendation_list)\n"
      ],
      "metadata": {
        "colab": {
          "base_uri": "https://localhost:8080/",
          "height": 684,
          "referenced_widgets": [
            "ce055f8c67674ddca471747be4a50a80",
            "0fccac79646a4f098e6f40fb193a32f3",
            "ed1aaf73547d49fd8c0585cecad66175",
            "2b8d04354c2f4d408ed097abd608dc63",
            "ca3a50fa07124dcbb758c5a94648b27f",
            "84f5275c8f9041b1a106ced740c659b0",
            "fac4240cba50455195cb8047d84a0a31",
            "a62c7eec05844a85b6c3f872bd8b9df4",
            "9dd32ed63d324a688aa9ffc90b704e22",
            "fa804f453b2145359a49aaf94d4bd39c",
            "3a0f156236784c6b95e68bde166797db",
            "27520f17be6d41dbadfb09fb78d3ba66",
            "95173ca160c140afaa048ae485273a1e",
            "4e437513eead4b8abee64701deb66abc",
            "657611da0af743318fa5dd55418d8df8",
            "42c1fcf37c104d53a4957c84830a89e4"
          ]
        },
        "id": "FAeJ0wq-WXn5",
        "outputId": "5f70ed73-e549-4dfd-d9e0-028a8653986d"
      },
      "id": "FAeJ0wq-WXn5",
      "execution_count": 51,
      "outputs": [
        {
          "output_type": "display_data",
          "data": {
            "text/plain": [
              "Text(value='', description='Movie Title:', placeholder='Toy Story')"
            ],
            "application/vnd.jupyter.widget-view+json": {
              "version_major": 2,
              "version_minor": 0,
              "model_id": "ce055f8c67674ddca471747be4a50a80"
            }
          },
          "metadata": {}
        },
        {
          "output_type": "display_data",
          "data": {
            "text/plain": [
              "Output()"
            ],
            "application/vnd.jupyter.widget-view+json": {
              "version_major": 2,
              "version_minor": 0,
              "model_id": "2b8d04354c2f4d408ed097abd608dc63"
            }
          },
          "metadata": {}
        },
        {
          "output_type": "display_data",
          "data": {
            "text/plain": [
              "Output()"
            ],
            "application/vnd.jupyter.widget-view+json": {
              "version_major": 2,
              "version_minor": 0,
              "model_id": "84f5275c8f9041b1a106ced740c659b0"
            }
          },
          "metadata": {}
        }
      ]
    }
  ],
  "metadata": {
    "kernelspec": {
      "display_name": "Python 3 (ipykernel)",
      "language": "python",
      "name": "python3"
    },
    "language_info": {
      "codemirror_mode": {
        "name": "ipython",
        "version": 3
      },
      "file_extension": ".py",
      "mimetype": "text/x-python",
      "name": "python",
      "nbconvert_exporter": "python",
      "pygments_lexer": "ipython3",
      "version": "3.9.13"
    },
    "colab": {
      "provenance": [],
      "collapsed_sections": [
        "Gn0z-2u9ntBF",
        "8U8oafDMrG4o"
      ]
    },
    "widgets": {
      "application/vnd.jupyter.widget-state+json": {
        "ce055f8c67674ddca471747be4a50a80": {
          "model_module": "@jupyter-widgets/controls",
          "model_name": "TextModel",
          "model_module_version": "1.5.0",
          "state": {
            "_dom_classes": [],
            "_model_module": "@jupyter-widgets/controls",
            "_model_module_version": "1.5.0",
            "_model_name": "TextModel",
            "_view_count": null,
            "_view_module": "@jupyter-widgets/controls",
            "_view_module_version": "1.5.0",
            "_view_name": "TextView",
            "continuous_update": true,
            "description": "Movie Title:",
            "description_tooltip": null,
            "disabled": false,
            "layout": "IPY_MODEL_0fccac79646a4f098e6f40fb193a32f3",
            "placeholder": "Toy Story",
            "style": "IPY_MODEL_ed1aaf73547d49fd8c0585cecad66175",
            "value": "Iron Man"
          }
        },
        "0fccac79646a4f098e6f40fb193a32f3": {
          "model_module": "@jupyter-widgets/base",
          "model_name": "LayoutModel",
          "model_module_version": "1.2.0",
          "state": {
            "_model_module": "@jupyter-widgets/base",
            "_model_module_version": "1.2.0",
            "_model_name": "LayoutModel",
            "_view_count": null,
            "_view_module": "@jupyter-widgets/base",
            "_view_module_version": "1.2.0",
            "_view_name": "LayoutView",
            "align_content": null,
            "align_items": null,
            "align_self": null,
            "border": null,
            "bottom": null,
            "display": null,
            "flex": null,
            "flex_flow": null,
            "grid_area": null,
            "grid_auto_columns": null,
            "grid_auto_flow": null,
            "grid_auto_rows": null,
            "grid_column": null,
            "grid_gap": null,
            "grid_row": null,
            "grid_template_areas": null,
            "grid_template_columns": null,
            "grid_template_rows": null,
            "height": null,
            "justify_content": null,
            "justify_items": null,
            "left": null,
            "margin": null,
            "max_height": null,
            "max_width": null,
            "min_height": null,
            "min_width": null,
            "object_fit": null,
            "object_position": null,
            "order": null,
            "overflow": null,
            "overflow_x": null,
            "overflow_y": null,
            "padding": null,
            "right": null,
            "top": null,
            "visibility": null,
            "width": null
          }
        },
        "ed1aaf73547d49fd8c0585cecad66175": {
          "model_module": "@jupyter-widgets/controls",
          "model_name": "DescriptionStyleModel",
          "model_module_version": "1.5.0",
          "state": {
            "_model_module": "@jupyter-widgets/controls",
            "_model_module_version": "1.5.0",
            "_model_name": "DescriptionStyleModel",
            "_view_count": null,
            "_view_module": "@jupyter-widgets/base",
            "_view_module_version": "1.2.0",
            "_view_name": "StyleView",
            "description_width": ""
          }
        },
        "2b8d04354c2f4d408ed097abd608dc63": {
          "model_module": "@jupyter-widgets/output",
          "model_name": "OutputModel",
          "model_module_version": "1.0.0",
          "state": {
            "_dom_classes": [],
            "_model_module": "@jupyter-widgets/output",
            "_model_module_version": "1.0.0",
            "_model_name": "OutputModel",
            "_view_count": null,
            "_view_module": "@jupyter-widgets/output",
            "_view_module_version": "1.0.0",
            "_view_name": "OutputView",
            "layout": "IPY_MODEL_ca3a50fa07124dcbb758c5a94648b27f",
            "msg_id": "",
            "outputs": [
              {
                "output_type": "display_data",
                "data": {
                  "text/plain": "HTML(value='<h3>🔍 Matching Movies</h3>')",
                  "application/vnd.jupyter.widget-view+json": {
                    "version_major": 2,
                    "version_minor": 0,
                    "model_id": "3a0f156236784c6b95e68bde166797db"
                  }
                },
                "metadata": {}
              },
              {
                "output_type": "display_data",
                "data": {
                  "text/plain": "       movieId              title                                 genres  \\\n19678   102125  Iron Man 3 (2013)            Action|Sci-Fi|Thriller|IMAX   \n12324    59315    Iron Man (2008)                Action|Adventure|Sci-Fi   \n14628    77561  Iron Man 2 (2010)  Action|Adventure|Sci-Fi|Thriller|IMAX   \n35143   147070    Iron Man (1951)                                  Drama   \n44001   167296    Iron Man (1931)                                  Drama   \n\n           clean_title  \n19678  Iron Man 3 2013  \n12324    Iron Man 2008  \n14628  Iron Man 2 2010  \n35143    Iron Man 1951  \n44001    Iron Man 1931  ",
                  "text/html": "\n  <div id=\"df-05e98309-c56e-4232-963c-a0974d4651c7\" class=\"colab-df-container\">\n    <div>\n<style scoped>\n    .dataframe tbody tr th:only-of-type {\n        vertical-align: middle;\n    }\n\n    .dataframe tbody tr th {\n        vertical-align: top;\n    }\n\n    .dataframe thead th {\n        text-align: right;\n    }\n</style>\n<table border=\"1\" class=\"dataframe\">\n  <thead>\n    <tr style=\"text-align: right;\">\n      <th></th>\n      <th>movieId</th>\n      <th>title</th>\n      <th>genres</th>\n      <th>clean_title</th>\n    </tr>\n  </thead>\n  <tbody>\n    <tr>\n      <th>19678</th>\n      <td>102125</td>\n      <td>Iron Man 3 (2013)</td>\n      <td>Action|Sci-Fi|Thriller|IMAX</td>\n      <td>Iron Man 3 2013</td>\n    </tr>\n    <tr>\n      <th>12324</th>\n      <td>59315</td>\n      <td>Iron Man (2008)</td>\n      <td>Action|Adventure|Sci-Fi</td>\n      <td>Iron Man 2008</td>\n    </tr>\n    <tr>\n      <th>14628</th>\n      <td>77561</td>\n      <td>Iron Man 2 (2010)</td>\n      <td>Action|Adventure|Sci-Fi|Thriller|IMAX</td>\n      <td>Iron Man 2 2010</td>\n    </tr>\n    <tr>\n      <th>35143</th>\n      <td>147070</td>\n      <td>Iron Man (1951)</td>\n      <td>Drama</td>\n      <td>Iron Man 1951</td>\n    </tr>\n    <tr>\n      <th>44001</th>\n      <td>167296</td>\n      <td>Iron Man (1931)</td>\n      <td>Drama</td>\n      <td>Iron Man 1931</td>\n    </tr>\n  </tbody>\n</table>\n</div>\n    <div class=\"colab-df-buttons\">\n\n  <div class=\"colab-df-container\">\n    <button class=\"colab-df-convert\" onclick=\"convertToInteractive('df-05e98309-c56e-4232-963c-a0974d4651c7')\"\n            title=\"Convert this dataframe to an interactive table.\"\n            style=\"display:none;\">\n\n  <svg xmlns=\"http://www.w3.org/2000/svg\" height=\"24px\" viewBox=\"0 -960 960 960\">\n    <path d=\"M120-120v-720h720v720H120Zm60-500h600v-160H180v160Zm220 220h160v-160H400v160Zm0 220h160v-160H400v160ZM180-400h160v-160H180v160Zm440 0h160v-160H620v160ZM180-180h160v-160H180v160Zm440 0h160v-160H620v160Z\"/>\n  </svg>\n    </button>\n\n  <style>\n    .colab-df-container {\n      display:flex;\n      gap: 12px;\n    }\n\n    .colab-df-convert {\n      background-color: #E8F0FE;\n      border: none;\n      border-radius: 50%;\n      cursor: pointer;\n      display: none;\n      fill: #1967D2;\n      height: 32px;\n      padding: 0 0 0 0;\n      width: 32px;\n    }\n\n    .colab-df-convert:hover {\n      background-color: #E2EBFA;\n      box-shadow: 0px 1px 2px rgba(60, 64, 67, 0.3), 0px 1px 3px 1px rgba(60, 64, 67, 0.15);\n      fill: #174EA6;\n    }\n\n    .colab-df-buttons div {\n      margin-bottom: 4px;\n    }\n\n    [theme=dark] .colab-df-convert {\n      background-color: #3B4455;\n      fill: #D2E3FC;\n    }\n\n    [theme=dark] .colab-df-convert:hover {\n      background-color: #434B5C;\n      box-shadow: 0px 1px 3px 1px rgba(0, 0, 0, 0.15);\n      filter: drop-shadow(0px 1px 2px rgba(0, 0, 0, 0.3));\n      fill: #FFFFFF;\n    }\n  </style>\n\n    <script>\n      const buttonEl =\n        document.querySelector('#df-05e98309-c56e-4232-963c-a0974d4651c7 button.colab-df-convert');\n      buttonEl.style.display =\n        google.colab.kernel.accessAllowed ? 'block' : 'none';\n\n      async function convertToInteractive(key) {\n        const element = document.querySelector('#df-05e98309-c56e-4232-963c-a0974d4651c7');\n        const dataTable =\n          await google.colab.kernel.invokeFunction('convertToInteractive',\n                                                    [key], {});\n        if (!dataTable) return;\n\n        const docLinkHtml = 'Like what you see? Visit the ' +\n          '<a target=\"_blank\" href=https://colab.research.google.com/notebooks/data_table.ipynb>data table notebook</a>'\n          + ' to learn more about interactive tables.';\n        element.innerHTML = '';\n        dataTable['output_type'] = 'display_data';\n        await google.colab.output.renderOutput(dataTable, element);\n        const docLink = document.createElement('div');\n        docLink.innerHTML = docLinkHtml;\n        element.appendChild(docLink);\n      }\n    </script>\n  </div>\n\n\n    <div id=\"df-35aabfcf-85f4-4cf0-bdc4-e43d074e0c7b\">\n      <button class=\"colab-df-quickchart\" onclick=\"quickchart('df-35aabfcf-85f4-4cf0-bdc4-e43d074e0c7b')\"\n                title=\"Suggest charts\"\n                style=\"display:none;\">\n\n<svg xmlns=\"http://www.w3.org/2000/svg\" height=\"24px\"viewBox=\"0 0 24 24\"\n     width=\"24px\">\n    <g>\n        <path d=\"M19 3H5c-1.1 0-2 .9-2 2v14c0 1.1.9 2 2 2h14c1.1 0 2-.9 2-2V5c0-1.1-.9-2-2-2zM9 17H7v-7h2v7zm4 0h-2V7h2v10zm4 0h-2v-4h2v4z\"/>\n    </g>\n</svg>\n      </button>\n\n<style>\n  .colab-df-quickchart {\n      --bg-color: #E8F0FE;\n      --fill-color: #1967D2;\n      --hover-bg-color: #E2EBFA;\n      --hover-fill-color: #174EA6;\n      --disabled-fill-color: #AAA;\n      --disabled-bg-color: #DDD;\n  }\n\n  [theme=dark] .colab-df-quickchart {\n      --bg-color: #3B4455;\n      --fill-color: #D2E3FC;\n      --hover-bg-color: #434B5C;\n      --hover-fill-color: #FFFFFF;\n      --disabled-bg-color: #3B4455;\n      --disabled-fill-color: #666;\n  }\n\n  .colab-df-quickchart {\n    background-color: var(--bg-color);\n    border: none;\n    border-radius: 50%;\n    cursor: pointer;\n    display: none;\n    fill: var(--fill-color);\n    height: 32px;\n    padding: 0;\n    width: 32px;\n  }\n\n  .colab-df-quickchart:hover {\n    background-color: var(--hover-bg-color);\n    box-shadow: 0 1px 2px rgba(60, 64, 67, 0.3), 0 1px 3px 1px rgba(60, 64, 67, 0.15);\n    fill: var(--button-hover-fill-color);\n  }\n\n  .colab-df-quickchart-complete:disabled,\n  .colab-df-quickchart-complete:disabled:hover {\n    background-color: var(--disabled-bg-color);\n    fill: var(--disabled-fill-color);\n    box-shadow: none;\n  }\n\n  .colab-df-spinner {\n    border: 2px solid var(--fill-color);\n    border-color: transparent;\n    border-bottom-color: var(--fill-color);\n    animation:\n      spin 1s steps(1) infinite;\n  }\n\n  @keyframes spin {\n    0% {\n      border-color: transparent;\n      border-bottom-color: var(--fill-color);\n      border-left-color: var(--fill-color);\n    }\n    20% {\n      border-color: transparent;\n      border-left-color: var(--fill-color);\n      border-top-color: var(--fill-color);\n    }\n    30% {\n      border-color: transparent;\n      border-left-color: var(--fill-color);\n      border-top-color: var(--fill-color);\n      border-right-color: var(--fill-color);\n    }\n    40% {\n      border-color: transparent;\n      border-right-color: var(--fill-color);\n      border-top-color: var(--fill-color);\n    }\n    60% {\n      border-color: transparent;\n      border-right-color: var(--fill-color);\n    }\n    80% {\n      border-color: transparent;\n      border-right-color: var(--fill-color);\n      border-bottom-color: var(--fill-color);\n    }\n    90% {\n      border-color: transparent;\n      border-bottom-color: var(--fill-color);\n    }\n  }\n</style>\n\n      <script>\n        async function quickchart(key) {\n          const quickchartButtonEl =\n            document.querySelector('#' + key + ' button');\n          quickchartButtonEl.disabled = true;  // To prevent multiple clicks.\n          quickchartButtonEl.classList.add('colab-df-spinner');\n          try {\n            const charts = await google.colab.kernel.invokeFunction(\n                'suggestCharts', [key], {});\n          } catch (error) {\n            console.error('Error during call to suggestCharts:', error);\n          }\n          quickchartButtonEl.classList.remove('colab-df-spinner');\n          quickchartButtonEl.classList.add('colab-df-quickchart-complete');\n        }\n        (() => {\n          let quickchartButtonEl =\n            document.querySelector('#df-35aabfcf-85f4-4cf0-bdc4-e43d074e0c7b button');\n          quickchartButtonEl.style.display =\n            google.colab.kernel.accessAllowed ? 'block' : 'none';\n        })();\n      </script>\n    </div>\n\n    </div>\n  </div>\n",
                  "application/vnd.google.colaboratory.intrinsic+json": {
                    "type": "dataframe",
                    "summary": "{\n  \"name\": \"display(movie_name_input, movie_list, recommendation_list)\",\n  \"rows\": 5,\n  \"fields\": [\n    {\n      \"column\": \"movieId\",\n      \"properties\": {\n        \"dtype\": \"number\",\n        \"std\": 45656,\n        \"min\": 59315,\n        \"max\": 167296,\n        \"num_unique_values\": 5,\n        \"samples\": [\n          59315,\n          167296,\n          77561\n        ],\n        \"semantic_type\": \"\",\n        \"description\": \"\"\n      }\n    },\n    {\n      \"column\": \"title\",\n      \"properties\": {\n        \"dtype\": \"string\",\n        \"num_unique_values\": 5,\n        \"samples\": [\n          \"Iron Man (2008)\",\n          \"Iron Man (1931)\",\n          \"Iron Man 2 (2010)\"\n        ],\n        \"semantic_type\": \"\",\n        \"description\": \"\"\n      }\n    },\n    {\n      \"column\": \"genres\",\n      \"properties\": {\n        \"dtype\": \"string\",\n        \"num_unique_values\": 4,\n        \"samples\": [\n          \"Action|Adventure|Sci-Fi\",\n          \"Drama\",\n          \"Action|Sci-Fi|Thriller|IMAX\"\n        ],\n        \"semantic_type\": \"\",\n        \"description\": \"\"\n      }\n    },\n    {\n      \"column\": \"clean_title\",\n      \"properties\": {\n        \"dtype\": \"string\",\n        \"num_unique_values\": 5,\n        \"samples\": [\n          \"Iron Man 2008\",\n          \"Iron Man 1931\",\n          \"Iron Man 2 2010\"\n        ],\n        \"semantic_type\": \"\",\n        \"description\": \"\"\n      }\n    }\n  ]\n}"
                  }
                },
                "metadata": {}
              }
            ]
          }
        },
        "ca3a50fa07124dcbb758c5a94648b27f": {
          "model_module": "@jupyter-widgets/base",
          "model_name": "LayoutModel",
          "model_module_version": "1.2.0",
          "state": {
            "_model_module": "@jupyter-widgets/base",
            "_model_module_version": "1.2.0",
            "_model_name": "LayoutModel",
            "_view_count": null,
            "_view_module": "@jupyter-widgets/base",
            "_view_module_version": "1.2.0",
            "_view_name": "LayoutView",
            "align_content": null,
            "align_items": null,
            "align_self": null,
            "border": null,
            "bottom": null,
            "display": null,
            "flex": null,
            "flex_flow": null,
            "grid_area": null,
            "grid_auto_columns": null,
            "grid_auto_flow": null,
            "grid_auto_rows": null,
            "grid_column": null,
            "grid_gap": null,
            "grid_row": null,
            "grid_template_areas": null,
            "grid_template_columns": null,
            "grid_template_rows": null,
            "height": null,
            "justify_content": null,
            "justify_items": null,
            "left": null,
            "margin": null,
            "max_height": null,
            "max_width": null,
            "min_height": null,
            "min_width": null,
            "object_fit": null,
            "object_position": null,
            "order": null,
            "overflow": null,
            "overflow_x": null,
            "overflow_y": null,
            "padding": null,
            "right": null,
            "top": null,
            "visibility": null,
            "width": null
          }
        },
        "84f5275c8f9041b1a106ced740c659b0": {
          "model_module": "@jupyter-widgets/output",
          "model_name": "OutputModel",
          "model_module_version": "1.0.0",
          "state": {
            "_dom_classes": [],
            "_model_module": "@jupyter-widgets/output",
            "_model_module_version": "1.0.0",
            "_model_name": "OutputModel",
            "_view_count": null,
            "_view_module": "@jupyter-widgets/output",
            "_view_module_version": "1.0.0",
            "_view_name": "OutputView",
            "layout": "IPY_MODEL_fac4240cba50455195cb8047d84a0a31",
            "msg_id": "",
            "outputs": [
              {
                "output_type": "display_data",
                "data": {
                  "text/plain": "HTML(value='<h3>🎬 Recommended Movies</h3>')",
                  "application/vnd.jupyter.widget-view+json": {
                    "version_major": 2,
                    "version_minor": 0,
                    "model_id": "4e437513eead4b8abee64701deb66abc"
                  }
                },
                "metadata": {}
              },
              {
                "output_type": "display_data",
                "data": {
                  "text/plain": "           score                                      title  \\\n19678  82.829093                          Iron Man 3 (2013)   \n20513  46.296109                Thor: The Dark World (2013)   \n20018  42.791501                      Wolverine, The (2013)   \n14628  37.425154                          Iron Man 2 (2010)   \n25073  36.589551                   X-Men: Apocalypse (2016)   \n25058  35.780372             Avengers: Age of Ultron (2015)   \n16725  33.260626  Captain America: The First Avenger (2011)   \n19841  32.590829                        Man of Steel (2013)   \n16312  32.573239                                Thor (2011)   \n25061  29.919500                             Ant-Man (2015)   \n\n                                      genres  \n19678            Action|Sci-Fi|Thriller|IMAX  \n20513          Action|Adventure|Fantasy|IMAX  \n20018        Action|Adventure|Fantasy|Sci-Fi  \n14628  Action|Adventure|Sci-Fi|Thriller|IMAX  \n25073        Action|Adventure|Fantasy|Sci-Fi  \n25058                Action|Adventure|Sci-Fi  \n16725   Action|Adventure|Sci-Fi|Thriller|War  \n19841   Action|Adventure|Fantasy|Sci-Fi|IMAX  \n16312    Action|Adventure|Drama|Fantasy|IMAX  \n25061                Action|Adventure|Sci-Fi  ",
                  "text/html": "\n  <div id=\"df-09b63c6e-fce9-492f-80f4-f259b77a5832\" class=\"colab-df-container\">\n    <div>\n<style scoped>\n    .dataframe tbody tr th:only-of-type {\n        vertical-align: middle;\n    }\n\n    .dataframe tbody tr th {\n        vertical-align: top;\n    }\n\n    .dataframe thead th {\n        text-align: right;\n    }\n</style>\n<table border=\"1\" class=\"dataframe\">\n  <thead>\n    <tr style=\"text-align: right;\">\n      <th></th>\n      <th>score</th>\n      <th>title</th>\n      <th>genres</th>\n    </tr>\n  </thead>\n  <tbody>\n    <tr>\n      <th>19678</th>\n      <td>82.829093</td>\n      <td>Iron Man 3 (2013)</td>\n      <td>Action|Sci-Fi|Thriller|IMAX</td>\n    </tr>\n    <tr>\n      <th>20513</th>\n      <td>46.296109</td>\n      <td>Thor: The Dark World (2013)</td>\n      <td>Action|Adventure|Fantasy|IMAX</td>\n    </tr>\n    <tr>\n      <th>20018</th>\n      <td>42.791501</td>\n      <td>Wolverine, The (2013)</td>\n      <td>Action|Adventure|Fantasy|Sci-Fi</td>\n    </tr>\n    <tr>\n      <th>14628</th>\n      <td>37.425154</td>\n      <td>Iron Man 2 (2010)</td>\n      <td>Action|Adventure|Sci-Fi|Thriller|IMAX</td>\n    </tr>\n    <tr>\n      <th>25073</th>\n      <td>36.589551</td>\n      <td>X-Men: Apocalypse (2016)</td>\n      <td>Action|Adventure|Fantasy|Sci-Fi</td>\n    </tr>\n    <tr>\n      <th>25058</th>\n      <td>35.780372</td>\n      <td>Avengers: Age of Ultron (2015)</td>\n      <td>Action|Adventure|Sci-Fi</td>\n    </tr>\n    <tr>\n      <th>16725</th>\n      <td>33.260626</td>\n      <td>Captain America: The First Avenger (2011)</td>\n      <td>Action|Adventure|Sci-Fi|Thriller|War</td>\n    </tr>\n    <tr>\n      <th>19841</th>\n      <td>32.590829</td>\n      <td>Man of Steel (2013)</td>\n      <td>Action|Adventure|Fantasy|Sci-Fi|IMAX</td>\n    </tr>\n    <tr>\n      <th>16312</th>\n      <td>32.573239</td>\n      <td>Thor (2011)</td>\n      <td>Action|Adventure|Drama|Fantasy|IMAX</td>\n    </tr>\n    <tr>\n      <th>25061</th>\n      <td>29.919500</td>\n      <td>Ant-Man (2015)</td>\n      <td>Action|Adventure|Sci-Fi</td>\n    </tr>\n  </tbody>\n</table>\n</div>\n    <div class=\"colab-df-buttons\">\n\n  <div class=\"colab-df-container\">\n    <button class=\"colab-df-convert\" onclick=\"convertToInteractive('df-09b63c6e-fce9-492f-80f4-f259b77a5832')\"\n            title=\"Convert this dataframe to an interactive table.\"\n            style=\"display:none;\">\n\n  <svg xmlns=\"http://www.w3.org/2000/svg\" height=\"24px\" viewBox=\"0 -960 960 960\">\n    <path d=\"M120-120v-720h720v720H120Zm60-500h600v-160H180v160Zm220 220h160v-160H400v160Zm0 220h160v-160H400v160ZM180-400h160v-160H180v160Zm440 0h160v-160H620v160ZM180-180h160v-160H180v160Zm440 0h160v-160H620v160Z\"/>\n  </svg>\n    </button>\n\n  <style>\n    .colab-df-container {\n      display:flex;\n      gap: 12px;\n    }\n\n    .colab-df-convert {\n      background-color: #E8F0FE;\n      border: none;\n      border-radius: 50%;\n      cursor: pointer;\n      display: none;\n      fill: #1967D2;\n      height: 32px;\n      padding: 0 0 0 0;\n      width: 32px;\n    }\n\n    .colab-df-convert:hover {\n      background-color: #E2EBFA;\n      box-shadow: 0px 1px 2px rgba(60, 64, 67, 0.3), 0px 1px 3px 1px rgba(60, 64, 67, 0.15);\n      fill: #174EA6;\n    }\n\n    .colab-df-buttons div {\n      margin-bottom: 4px;\n    }\n\n    [theme=dark] .colab-df-convert {\n      background-color: #3B4455;\n      fill: #D2E3FC;\n    }\n\n    [theme=dark] .colab-df-convert:hover {\n      background-color: #434B5C;\n      box-shadow: 0px 1px 3px 1px rgba(0, 0, 0, 0.15);\n      filter: drop-shadow(0px 1px 2px rgba(0, 0, 0, 0.3));\n      fill: #FFFFFF;\n    }\n  </style>\n\n    <script>\n      const buttonEl =\n        document.querySelector('#df-09b63c6e-fce9-492f-80f4-f259b77a5832 button.colab-df-convert');\n      buttonEl.style.display =\n        google.colab.kernel.accessAllowed ? 'block' : 'none';\n\n      async function convertToInteractive(key) {\n        const element = document.querySelector('#df-09b63c6e-fce9-492f-80f4-f259b77a5832');\n        const dataTable =\n          await google.colab.kernel.invokeFunction('convertToInteractive',\n                                                    [key], {});\n        if (!dataTable) return;\n\n        const docLinkHtml = 'Like what you see? Visit the ' +\n          '<a target=\"_blank\" href=https://colab.research.google.com/notebooks/data_table.ipynb>data table notebook</a>'\n          + ' to learn more about interactive tables.';\n        element.innerHTML = '';\n        dataTable['output_type'] = 'display_data';\n        await google.colab.output.renderOutput(dataTable, element);\n        const docLink = document.createElement('div');\n        docLink.innerHTML = docLinkHtml;\n        element.appendChild(docLink);\n      }\n    </script>\n  </div>\n\n\n    <div id=\"df-58d438e4-591a-4ffa-a93f-433df2934de5\">\n      <button class=\"colab-df-quickchart\" onclick=\"quickchart('df-58d438e4-591a-4ffa-a93f-433df2934de5')\"\n                title=\"Suggest charts\"\n                style=\"display:none;\">\n\n<svg xmlns=\"http://www.w3.org/2000/svg\" height=\"24px\"viewBox=\"0 0 24 24\"\n     width=\"24px\">\n    <g>\n        <path d=\"M19 3H5c-1.1 0-2 .9-2 2v14c0 1.1.9 2 2 2h14c1.1 0 2-.9 2-2V5c0-1.1-.9-2-2-2zM9 17H7v-7h2v7zm4 0h-2V7h2v10zm4 0h-2v-4h2v4z\"/>\n    </g>\n</svg>\n      </button>\n\n<style>\n  .colab-df-quickchart {\n      --bg-color: #E8F0FE;\n      --fill-color: #1967D2;\n      --hover-bg-color: #E2EBFA;\n      --hover-fill-color: #174EA6;\n      --disabled-fill-color: #AAA;\n      --disabled-bg-color: #DDD;\n  }\n\n  [theme=dark] .colab-df-quickchart {\n      --bg-color: #3B4455;\n      --fill-color: #D2E3FC;\n      --hover-bg-color: #434B5C;\n      --hover-fill-color: #FFFFFF;\n      --disabled-bg-color: #3B4455;\n      --disabled-fill-color: #666;\n  }\n\n  .colab-df-quickchart {\n    background-color: var(--bg-color);\n    border: none;\n    border-radius: 50%;\n    cursor: pointer;\n    display: none;\n    fill: var(--fill-color);\n    height: 32px;\n    padding: 0;\n    width: 32px;\n  }\n\n  .colab-df-quickchart:hover {\n    background-color: var(--hover-bg-color);\n    box-shadow: 0 1px 2px rgba(60, 64, 67, 0.3), 0 1px 3px 1px rgba(60, 64, 67, 0.15);\n    fill: var(--button-hover-fill-color);\n  }\n\n  .colab-df-quickchart-complete:disabled,\n  .colab-df-quickchart-complete:disabled:hover {\n    background-color: var(--disabled-bg-color);\n    fill: var(--disabled-fill-color);\n    box-shadow: none;\n  }\n\n  .colab-df-spinner {\n    border: 2px solid var(--fill-color);\n    border-color: transparent;\n    border-bottom-color: var(--fill-color);\n    animation:\n      spin 1s steps(1) infinite;\n  }\n\n  @keyframes spin {\n    0% {\n      border-color: transparent;\n      border-bottom-color: var(--fill-color);\n      border-left-color: var(--fill-color);\n    }\n    20% {\n      border-color: transparent;\n      border-left-color: var(--fill-color);\n      border-top-color: var(--fill-color);\n    }\n    30% {\n      border-color: transparent;\n      border-left-color: var(--fill-color);\n      border-top-color: var(--fill-color);\n      border-right-color: var(--fill-color);\n    }\n    40% {\n      border-color: transparent;\n      border-right-color: var(--fill-color);\n      border-top-color: var(--fill-color);\n    }\n    60% {\n      border-color: transparent;\n      border-right-color: var(--fill-color);\n    }\n    80% {\n      border-color: transparent;\n      border-right-color: var(--fill-color);\n      border-bottom-color: var(--fill-color);\n    }\n    90% {\n      border-color: transparent;\n      border-bottom-color: var(--fill-color);\n    }\n  }\n</style>\n\n      <script>\n        async function quickchart(key) {\n          const quickchartButtonEl =\n            document.querySelector('#' + key + ' button');\n          quickchartButtonEl.disabled = true;  // To prevent multiple clicks.\n          quickchartButtonEl.classList.add('colab-df-spinner');\n          try {\n            const charts = await google.colab.kernel.invokeFunction(\n                'suggestCharts', [key], {});\n          } catch (error) {\n            console.error('Error during call to suggestCharts:', error);\n          }\n          quickchartButtonEl.classList.remove('colab-df-spinner');\n          quickchartButtonEl.classList.add('colab-df-quickchart-complete');\n        }\n        (() => {\n          let quickchartButtonEl =\n            document.querySelector('#df-58d438e4-591a-4ffa-a93f-433df2934de5 button');\n          quickchartButtonEl.style.display =\n            google.colab.kernel.accessAllowed ? 'block' : 'none';\n        })();\n      </script>\n    </div>\n\n    </div>\n  </div>\n",
                  "application/vnd.google.colaboratory.intrinsic+json": {
                    "type": "dataframe",
                    "summary": "{\n  \"name\": \"display(movie_name_input, movie_list, recommendation_list)\",\n  \"rows\": 10,\n  \"fields\": [\n    {\n      \"column\": \"score\",\n      \"properties\": {\n        \"dtype\": \"number\",\n        \"std\": 15.509161807988377,\n        \"min\": 29.919500335577435,\n        \"max\": 82.82909292035399,\n        \"num_unique_values\": 10,\n        \"samples\": [\n          32.57323878890325,\n          46.29610897069215,\n          35.78037238890088\n        ],\n        \"semantic_type\": \"\",\n        \"description\": \"\"\n      }\n    },\n    {\n      \"column\": \"title\",\n      \"properties\": {\n        \"dtype\": \"string\",\n        \"num_unique_values\": 10,\n        \"samples\": [\n          \"Thor (2011)\",\n          \"Thor: The Dark World (2013)\",\n          \"Avengers: Age of Ultron (2015)\"\n        ],\n        \"semantic_type\": \"\",\n        \"description\": \"\"\n      }\n    },\n    {\n      \"column\": \"genres\",\n      \"properties\": {\n        \"dtype\": \"string\",\n        \"num_unique_values\": 8,\n        \"samples\": [\n          \"Action|Adventure|Fantasy|IMAX\",\n          \"Action|Adventure|Sci-Fi|Thriller|War\",\n          \"Action|Sci-Fi|Thriller|IMAX\"\n        ],\n        \"semantic_type\": \"\",\n        \"description\": \"\"\n      }\n    }\n  ]\n}"
                  }
                },
                "metadata": {}
              }
            ]
          }
        },
        "fac4240cba50455195cb8047d84a0a31": {
          "model_module": "@jupyter-widgets/base",
          "model_name": "LayoutModel",
          "model_module_version": "1.2.0",
          "state": {
            "_model_module": "@jupyter-widgets/base",
            "_model_module_version": "1.2.0",
            "_model_name": "LayoutModel",
            "_view_count": null,
            "_view_module": "@jupyter-widgets/base",
            "_view_module_version": "1.2.0",
            "_view_name": "LayoutView",
            "align_content": null,
            "align_items": null,
            "align_self": null,
            "border": null,
            "bottom": null,
            "display": null,
            "flex": null,
            "flex_flow": null,
            "grid_area": null,
            "grid_auto_columns": null,
            "grid_auto_flow": null,
            "grid_auto_rows": null,
            "grid_column": null,
            "grid_gap": null,
            "grid_row": null,
            "grid_template_areas": null,
            "grid_template_columns": null,
            "grid_template_rows": null,
            "height": null,
            "justify_content": null,
            "justify_items": null,
            "left": null,
            "margin": null,
            "max_height": null,
            "max_width": null,
            "min_height": null,
            "min_width": null,
            "object_fit": null,
            "object_position": null,
            "order": null,
            "overflow": null,
            "overflow_x": null,
            "overflow_y": null,
            "padding": null,
            "right": null,
            "top": null,
            "visibility": null,
            "width": null
          }
        },
        "a62c7eec05844a85b6c3f872bd8b9df4": {
          "model_module": "@jupyter-widgets/controls",
          "model_name": "HTMLModel",
          "model_module_version": "1.5.0",
          "state": {
            "_dom_classes": [],
            "_model_module": "@jupyter-widgets/controls",
            "_model_module_version": "1.5.0",
            "_model_name": "HTMLModel",
            "_view_count": null,
            "_view_module": "@jupyter-widgets/controls",
            "_view_module_version": "1.5.0",
            "_view_name": "HTMLView",
            "description": "",
            "description_tooltip": null,
            "layout": "IPY_MODEL_9dd32ed63d324a688aa9ffc90b704e22",
            "placeholder": "​",
            "style": "IPY_MODEL_fa804f453b2145359a49aaf94d4bd39c",
            "value": "<span style='color:gray'>⏳ Loading recommendations...</span>"
          }
        },
        "9dd32ed63d324a688aa9ffc90b704e22": {
          "model_module": "@jupyter-widgets/base",
          "model_name": "LayoutModel",
          "model_module_version": "1.2.0",
          "state": {
            "_model_module": "@jupyter-widgets/base",
            "_model_module_version": "1.2.0",
            "_model_name": "LayoutModel",
            "_view_count": null,
            "_view_module": "@jupyter-widgets/base",
            "_view_module_version": "1.2.0",
            "_view_name": "LayoutView",
            "align_content": null,
            "align_items": null,
            "align_self": null,
            "border": null,
            "bottom": null,
            "display": null,
            "flex": null,
            "flex_flow": null,
            "grid_area": null,
            "grid_auto_columns": null,
            "grid_auto_flow": null,
            "grid_auto_rows": null,
            "grid_column": null,
            "grid_gap": null,
            "grid_row": null,
            "grid_template_areas": null,
            "grid_template_columns": null,
            "grid_template_rows": null,
            "height": null,
            "justify_content": null,
            "justify_items": null,
            "left": null,
            "margin": null,
            "max_height": null,
            "max_width": null,
            "min_height": null,
            "min_width": null,
            "object_fit": null,
            "object_position": null,
            "order": null,
            "overflow": null,
            "overflow_x": null,
            "overflow_y": null,
            "padding": null,
            "right": null,
            "top": null,
            "visibility": null,
            "width": null
          }
        },
        "fa804f453b2145359a49aaf94d4bd39c": {
          "model_module": "@jupyter-widgets/controls",
          "model_name": "DescriptionStyleModel",
          "model_module_version": "1.5.0",
          "state": {
            "_model_module": "@jupyter-widgets/controls",
            "_model_module_version": "1.5.0",
            "_model_name": "DescriptionStyleModel",
            "_view_count": null,
            "_view_module": "@jupyter-widgets/base",
            "_view_module_version": "1.2.0",
            "_view_name": "StyleView",
            "description_width": ""
          }
        },
        "3a0f156236784c6b95e68bde166797db": {
          "model_module": "@jupyter-widgets/controls",
          "model_name": "HTMLModel",
          "model_module_version": "1.5.0",
          "state": {
            "_dom_classes": [],
            "_model_module": "@jupyter-widgets/controls",
            "_model_module_version": "1.5.0",
            "_model_name": "HTMLModel",
            "_view_count": null,
            "_view_module": "@jupyter-widgets/controls",
            "_view_module_version": "1.5.0",
            "_view_name": "HTMLView",
            "description": "",
            "description_tooltip": null,
            "layout": "IPY_MODEL_27520f17be6d41dbadfb09fb78d3ba66",
            "placeholder": "​",
            "style": "IPY_MODEL_95173ca160c140afaa048ae485273a1e",
            "value": "<h3>🔍 Matching Movies</h3>"
          }
        },
        "27520f17be6d41dbadfb09fb78d3ba66": {
          "model_module": "@jupyter-widgets/base",
          "model_name": "LayoutModel",
          "model_module_version": "1.2.0",
          "state": {
            "_model_module": "@jupyter-widgets/base",
            "_model_module_version": "1.2.0",
            "_model_name": "LayoutModel",
            "_view_count": null,
            "_view_module": "@jupyter-widgets/base",
            "_view_module_version": "1.2.0",
            "_view_name": "LayoutView",
            "align_content": null,
            "align_items": null,
            "align_self": null,
            "border": null,
            "bottom": null,
            "display": null,
            "flex": null,
            "flex_flow": null,
            "grid_area": null,
            "grid_auto_columns": null,
            "grid_auto_flow": null,
            "grid_auto_rows": null,
            "grid_column": null,
            "grid_gap": null,
            "grid_row": null,
            "grid_template_areas": null,
            "grid_template_columns": null,
            "grid_template_rows": null,
            "height": null,
            "justify_content": null,
            "justify_items": null,
            "left": null,
            "margin": null,
            "max_height": null,
            "max_width": null,
            "min_height": null,
            "min_width": null,
            "object_fit": null,
            "object_position": null,
            "order": null,
            "overflow": null,
            "overflow_x": null,
            "overflow_y": null,
            "padding": null,
            "right": null,
            "top": null,
            "visibility": null,
            "width": null
          }
        },
        "95173ca160c140afaa048ae485273a1e": {
          "model_module": "@jupyter-widgets/controls",
          "model_name": "DescriptionStyleModel",
          "model_module_version": "1.5.0",
          "state": {
            "_model_module": "@jupyter-widgets/controls",
            "_model_module_version": "1.5.0",
            "_model_name": "DescriptionStyleModel",
            "_view_count": null,
            "_view_module": "@jupyter-widgets/base",
            "_view_module_version": "1.2.0",
            "_view_name": "StyleView",
            "description_width": ""
          }
        },
        "4e437513eead4b8abee64701deb66abc": {
          "model_module": "@jupyter-widgets/controls",
          "model_name": "HTMLModel",
          "model_module_version": "1.5.0",
          "state": {
            "_dom_classes": [],
            "_model_module": "@jupyter-widgets/controls",
            "_model_module_version": "1.5.0",
            "_model_name": "HTMLModel",
            "_view_count": null,
            "_view_module": "@jupyter-widgets/controls",
            "_view_module_version": "1.5.0",
            "_view_name": "HTMLView",
            "description": "",
            "description_tooltip": null,
            "layout": "IPY_MODEL_657611da0af743318fa5dd55418d8df8",
            "placeholder": "​",
            "style": "IPY_MODEL_42c1fcf37c104d53a4957c84830a89e4",
            "value": "<h3>🎬 Recommended Movies</h3>"
          }
        },
        "657611da0af743318fa5dd55418d8df8": {
          "model_module": "@jupyter-widgets/base",
          "model_name": "LayoutModel",
          "model_module_version": "1.2.0",
          "state": {
            "_model_module": "@jupyter-widgets/base",
            "_model_module_version": "1.2.0",
            "_model_name": "LayoutModel",
            "_view_count": null,
            "_view_module": "@jupyter-widgets/base",
            "_view_module_version": "1.2.0",
            "_view_name": "LayoutView",
            "align_content": null,
            "align_items": null,
            "align_self": null,
            "border": null,
            "bottom": null,
            "display": null,
            "flex": null,
            "flex_flow": null,
            "grid_area": null,
            "grid_auto_columns": null,
            "grid_auto_flow": null,
            "grid_auto_rows": null,
            "grid_column": null,
            "grid_gap": null,
            "grid_row": null,
            "grid_template_areas": null,
            "grid_template_columns": null,
            "grid_template_rows": null,
            "height": null,
            "justify_content": null,
            "justify_items": null,
            "left": null,
            "margin": null,
            "max_height": null,
            "max_width": null,
            "min_height": null,
            "min_width": null,
            "object_fit": null,
            "object_position": null,
            "order": null,
            "overflow": null,
            "overflow_x": null,
            "overflow_y": null,
            "padding": null,
            "right": null,
            "top": null,
            "visibility": null,
            "width": null
          }
        },
        "42c1fcf37c104d53a4957c84830a89e4": {
          "model_module": "@jupyter-widgets/controls",
          "model_name": "DescriptionStyleModel",
          "model_module_version": "1.5.0",
          "state": {
            "_model_module": "@jupyter-widgets/controls",
            "_model_module_version": "1.5.0",
            "_model_name": "DescriptionStyleModel",
            "_view_count": null,
            "_view_module": "@jupyter-widgets/base",
            "_view_module_version": "1.2.0",
            "_view_name": "StyleView",
            "description_width": ""
          }
        }
      }
    }
  },
  "nbformat": 4,
  "nbformat_minor": 5
}